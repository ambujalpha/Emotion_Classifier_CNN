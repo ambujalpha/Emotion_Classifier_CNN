{
 "cells": [
  {
   "cell_type": "markdown",
   "metadata": {},
   "source": [
    "# ML_PROJECT-> EMOTION Detection ON IMAGES USING CNN\n",
    "Here we have created a emotion detection model to classify emotions using 7 classes\n",
    "classes- Anger, Disgust, Fear, Happy, Sad, Surprise, Neutral\n",
    "The dataset is taken from kaggle and below description is given while loading.\n",
    "\n",
    "We are using Tensorflow-2 for here and each step is specified with comments "
   ]
  },
  {
   "cell_type": "code",
   "execution_count": 1,
   "metadata": {},
   "outputs": [],
   "source": [
    "import numpy as np # linear algebra\n",
    "import pandas as pd # data processing, CSV file I/O (e.g. pd.read_csv)\n",
    "\n",
    "import os# directory handling"
   ]
  },
  {
   "cell_type": "code",
   "execution_count": 2,
   "metadata": {},
   "outputs": [],
   "source": [
    "#overall we are using tensorflow backend on verion 2.0.0 and keras version 2.3.1\n",
    "import tensorflow as tf"
   ]
  },
  {
   "cell_type": "code",
   "execution_count": 3,
   "metadata": {},
   "outputs": [
    {
     "name": "stderr",
     "output_type": "stream",
     "text": [
      "Using TensorFlow backend.\n"
     ]
    }
   ],
   "source": [
    "#various librarier required for preprocessing, model creation and to show the result are used through keras libraries\n",
    "import keras\n",
    "from keras.models import Sequential#simplest sequential model in keras\n",
    "from keras.layers import Conv2D, MaxPooling2D, AveragePooling2D #2D convolution layer (e.g. spatial convolution over images).\n",
    "\n",
    "#for creating dense NN and for activation fuction,i.e, using activation via activation layer\n",
    "#A simple and powerful regularization technique for neural networks and deep learning models is dropout,\n",
    "#it uses dropout regularization technique\n",
    "#Flatten-Flattens the input. Does not affect the batch size\n",
    "from keras.layers import Dense, Activation, Dropout, Flatten\n",
    "\n",
    "#Loads an image into PIL format, it support manipulation of image\n",
    "from keras.preprocessing import image\n",
    "#Generate batches of tensor image data with real-time data augmentation\n",
    "from keras.preprocessing.image import ImageDataGenerator\n",
    "\n",
    "#basic libraries\n",
    "import pandas as pd\n",
    "import numpy as np\n",
    "import matplotlib.pyplot as plt"
   ]
  },
  {
   "cell_type": "code",
   "execution_count": 4,
   "metadata": {},
   "outputs": [
    {
     "data": {
      "text/html": [
       "<div>\n",
       "<style scoped>\n",
       "    .dataframe tbody tr th:only-of-type {\n",
       "        vertical-align: middle;\n",
       "    }\n",
       "\n",
       "    .dataframe tbody tr th {\n",
       "        vertical-align: top;\n",
       "    }\n",
       "\n",
       "    .dataframe thead th {\n",
       "        text-align: right;\n",
       "    }\n",
       "</style>\n",
       "<table border=\"1\" class=\"dataframe\">\n",
       "  <thead>\n",
       "    <tr style=\"text-align: right;\">\n",
       "      <th></th>\n",
       "      <th>emotion</th>\n",
       "      <th>pixels</th>\n",
       "      <th>usage</th>\n",
       "    </tr>\n",
       "  </thead>\n",
       "  <tbody>\n",
       "    <tr>\n",
       "      <th>0</th>\n",
       "      <td>emotion</td>\n",
       "      <td>pixels</td>\n",
       "      <td>Usage</td>\n",
       "    </tr>\n",
       "    <tr>\n",
       "      <th>1</th>\n",
       "      <td>0</td>\n",
       "      <td>70 80 82 72 58 58 60 63 54 58 60 48 89 115 121...</td>\n",
       "      <td>Training</td>\n",
       "    </tr>\n",
       "    <tr>\n",
       "      <th>2</th>\n",
       "      <td>0</td>\n",
       "      <td>151 150 147 155 148 133 111 140 170 174 182 15...</td>\n",
       "      <td>Training</td>\n",
       "    </tr>\n",
       "    <tr>\n",
       "      <th>3</th>\n",
       "      <td>2</td>\n",
       "      <td>231 212 156 164 174 138 161 173 182 200 106 38...</td>\n",
       "      <td>Training</td>\n",
       "    </tr>\n",
       "    <tr>\n",
       "      <th>4</th>\n",
       "      <td>4</td>\n",
       "      <td>24 32 36 30 32 23 19 20 30 41 21 22 32 34 21 1...</td>\n",
       "      <td>Training</td>\n",
       "    </tr>\n",
       "    <tr>\n",
       "      <th>5</th>\n",
       "      <td>6</td>\n",
       "      <td>4 0 0 0 0 0 0 0 0 0 0 0 3 15 23 28 48 50 58 84...</td>\n",
       "      <td>Training</td>\n",
       "    </tr>\n",
       "    <tr>\n",
       "      <th>6</th>\n",
       "      <td>2</td>\n",
       "      <td>55 55 55 55 55 54 60 68 54 85 151 163 170 179 ...</td>\n",
       "      <td>Training</td>\n",
       "    </tr>\n",
       "    <tr>\n",
       "      <th>7</th>\n",
       "      <td>4</td>\n",
       "      <td>20 17 19 21 25 38 42 42 46 54 56 62 63 66 82 1...</td>\n",
       "      <td>Training</td>\n",
       "    </tr>\n",
       "    <tr>\n",
       "      <th>8</th>\n",
       "      <td>3</td>\n",
       "      <td>77 78 79 79 78 75 60 55 47 48 58 73 77 79 57 5...</td>\n",
       "      <td>Training</td>\n",
       "    </tr>\n",
       "    <tr>\n",
       "      <th>9</th>\n",
       "      <td>3</td>\n",
       "      <td>85 84 90 121 101 102 133 153 153 169 177 189 1...</td>\n",
       "      <td>Training</td>\n",
       "    </tr>\n",
       "  </tbody>\n",
       "</table>\n",
       "</div>"
      ],
      "text/plain": [
       "   emotion                                             pixels     usage\n",
       "0  emotion                                             pixels     Usage\n",
       "1        0  70 80 82 72 58 58 60 63 54 58 60 48 89 115 121...  Training\n",
       "2        0  151 150 147 155 148 133 111 140 170 174 182 15...  Training\n",
       "3        2  231 212 156 164 174 138 161 173 182 200 106 38...  Training\n",
       "4        4  24 32 36 30 32 23 19 20 30 41 21 22 32 34 21 1...  Training\n",
       "5        6  4 0 0 0 0 0 0 0 0 0 0 0 3 15 23 28 48 50 58 84...  Training\n",
       "6        2  55 55 55 55 55 54 60 68 54 85 151 163 170 179 ...  Training\n",
       "7        4  20 17 19 21 25 38 42 42 46 54 56 62 63 66 82 1...  Training\n",
       "8        3  77 78 79 79 78 75 60 55 47 48 58 73 77 79 57 5...  Training\n",
       "9        3  85 84 90 121 101 102 133 153 153 169 177 189 1...  Training"
      ]
     },
     "execution_count": 4,
     "metadata": {},
     "output_type": "execute_result"
    }
   ],
   "source": [
    "# get the data\n",
    "#images have 7 classes and in csv file their emotion are classied as 0-6 and pixels are stored in pixels column \n",
    "#total dataset is 35888 and training is 28710 and test is 7178\n",
    "#80% is training and 20% is test\n",
    "filname = r'D:\\Carrier\\dataset\\fer2013.csv'\n",
    "label_map = ['Anger', 'Disgust', 'Fear', 'Happy', 'Sad', 'Surprise', 'Neutral']\n",
    "names=['emotion','pixels','usage']\n",
    "df=pd.read_csv(r'D:\\Carrier\\dataset\\fer2013.csv',names=names, na_filter=False)\n",
    "im=df['pixels']\n",
    "df.head(10)"
   ]
  },
  {
   "cell_type": "code",
   "execution_count": 5,
   "metadata": {},
   "outputs": [],
   "source": [
    "#for getting data from every images as stored in each line in csv\n",
    "def getData(filname):\n",
    "    # images are 48x48\n",
    "    # N = 35887\n",
    "    Y = []\n",
    "    X = []\n",
    "    first = True\n",
    "    for line in open(filname):\n",
    "        if first:\n",
    "            first = False\n",
    "        else:\n",
    "            row = line.split(',')\n",
    "            Y.append(int(row[0]))\n",
    "            X.append([int(p) for p in row[1].split()])\n",
    "\n",
    "    X, Y = np.array(X) / 255.0, np.array(Y)\n",
    "    return X, Y"
   ]
  },
  {
   "cell_type": "code",
   "execution_count": 6,
   "metadata": {},
   "outputs": [
    {
     "name": "stdout",
     "output_type": "stream",
     "text": [
      "7\n"
     ]
    }
   ],
   "source": [
    "X, Y = getData(filname)\n",
    "num_class = len(set(Y))\n",
    "print(num_class)"
   ]
  },
  {
   "cell_type": "code",
   "execution_count": 7,
   "metadata": {},
   "outputs": [],
   "source": [
    "# keras with tensorflow backend\n",
    "N, D = X.shape\n",
    "X = X.reshape(N, 48, 48, 1)"
   ]
  },
  {
   "cell_type": "code",
   "execution_count": 8,
   "metadata": {},
   "outputs": [],
   "source": [
    "#using sklearn for train test split and splitting the dataset\n",
    "from sklearn.model_selection import train_test_split\n",
    "\n",
    "X_train, X_test, y_train, y_test = train_test_split(X, Y, test_size=0.1, random_state=0)\n",
    "y_train = (np.arange(num_class) == y_train[:, None]).astype(np.float32)\n",
    "y_test = (np.arange(num_class) == y_test[:, None]).astype(np.float32)"
   ]
  },
  {
   "cell_type": "code",
   "execution_count": 9,
   "metadata": {},
   "outputs": [],
   "source": [
    "#importing all libraiers related to keras \n",
    "from keras.models import Sequential\n",
    "from keras.layers import Dense , Activation , Dropout ,Flatten\n",
    "from keras.layers.convolutional import Conv2D\n",
    "from keras.layers.convolutional import MaxPooling2D\n",
    "from keras.metrics import categorical_accuracy#Calculates how often predictions matches one-hot labels.\n",
    "from keras.models import model_from_json#saving model in json and \n",
    "from keras.callbacks import ModelCheckpoint#Callback to save the Keras model or model weights at some frequency\n",
    "from keras.optimizers import * #for using optimizer classes\n",
    "from keras.layers.normalization import BatchNormalization#Normalize and scale inputs or activations"
   ]
  },
  {
   "cell_type": "code",
   "execution_count": 10,
   "metadata": {},
   "outputs": [
    {
     "name": "stdout",
     "output_type": "stream",
     "text": [
      "Model: \"sequential_1\"\n",
      "_________________________________________________________________\n",
      "Layer (type)                 Output Shape              Param #   \n",
      "=================================================================\n",
      "conv2d_1 (Conv2D)            (None, 48, 48, 64)        1664      \n",
      "_________________________________________________________________\n",
      "conv2d_2 (Conv2D)            (None, 48, 48, 64)        102464    \n",
      "_________________________________________________________________\n",
      "batch_normalization_1 (Batch (None, 48, 48, 64)        256       \n",
      "_________________________________________________________________\n",
      "max_pooling2d_1 (MaxPooling2 (None, 24, 24, 64)        0         \n",
      "_________________________________________________________________\n",
      "conv2d_3 (Conv2D)            (None, 24, 24, 128)       204928    \n",
      "_________________________________________________________________\n",
      "conv2d_4 (Conv2D)            (None, 24, 24, 128)       409728    \n",
      "_________________________________________________________________\n",
      "batch_normalization_2 (Batch (None, 24, 24, 128)       512       \n",
      "_________________________________________________________________\n",
      "max_pooling2d_2 (MaxPooling2 (None, 12, 12, 128)       0         \n",
      "_________________________________________________________________\n",
      "conv2d_5 (Conv2D)            (None, 12, 12, 256)       295168    \n",
      "_________________________________________________________________\n",
      "conv2d_6 (Conv2D)            (None, 12, 12, 256)       590080    \n",
      "_________________________________________________________________\n",
      "batch_normalization_3 (Batch (None, 12, 12, 256)       1024      \n",
      "_________________________________________________________________\n",
      "max_pooling2d_3 (MaxPooling2 (None, 6, 6, 256)         0         \n",
      "_________________________________________________________________\n",
      "flatten_1 (Flatten)          (None, 9216)              0         \n",
      "_________________________________________________________________\n",
      "dense_1 (Dense)              (None, 128)               1179776   \n",
      "_________________________________________________________________\n",
      "batch_normalization_4 (Batch (None, 128)               512       \n",
      "_________________________________________________________________\n",
      "activation_1 (Activation)    (None, 128)               0         \n",
      "_________________________________________________________________\n",
      "dropout_1 (Dropout)          (None, 128)               0         \n",
      "_________________________________________________________________\n",
      "dense_2 (Dense)              (None, 7)                 903       \n",
      "_________________________________________________________________\n",
      "activation_2 (Activation)    (None, 7)                 0         \n",
      "=================================================================\n",
      "Total params: 2,787,015\n",
      "Trainable params: 2,785,863\n",
      "Non-trainable params: 1,152\n",
      "_________________________________________________________________\n"
     ]
    }
   ],
   "source": [
    "#here relu activation fuction is used(rectified linear unit)\n",
    "#The Keras Conv2D parameter, filters determines the number of kernels to convolve with the input volume\n",
    "#Each of these operations produces a 2D activation map\n",
    "#different kernel sizes are used in each step like(5,5) and (3,3), as kernel size if according to size of each image\n",
    "#2 dense layers are used and rest can be seen below in summary of model\n",
    "#sequential model is used becaunse it's simple input ouput model,like take a image and output it\n",
    "#it's 3 layers model first input then 1 hidden layer then 1 output layer\n",
    "\n",
    "#defining the model and add layers in it using .add function in keras\n",
    "def my_model():\n",
    "    model = Sequential()\n",
    "    input_shape = (48,48,1)\n",
    "    #we are learning with a total of 64  filters. Max pooling is then used to reduce the spatial dimensions of the output volume.\n",
    "    #Conv2D is CNN we are telling to extract 64 features with 5*5 searching marix\n",
    "    #Pooling is reducing size of image to removing unnecassary data from image\n",
    "    model.add(Conv2D(64, (5, 5), input_shape=input_shape,activation='relu', padding='same'))\n",
    "    model.add(Conv2D(64, (5, 5), activation='relu', padding='same'))\n",
    "    model.add(BatchNormalization())\n",
    "    model.add(MaxPooling2D(pool_size=(2, 2)))\n",
    "    \n",
    "    #same procedure with 128 filters\n",
    "    #pooling dosen't create loss of feature\n",
    "    model.add(Conv2D(128, (5, 5),activation='relu',padding='same'))\n",
    "    model.add(Conv2D(128, (5, 5),activation='relu',padding='same'))\n",
    "    model.add(BatchNormalization())\n",
    "    model.add(MaxPooling2D(pool_size=(2, 2)))\n",
    "    \n",
    "    #same procedure with 256 filters\n",
    "    #we are doing it again and again to make model better as more it will learn about feature better the accuracy and prediction\n",
    "    model.add(Conv2D(256, (3, 3),activation='relu',padding='same'))\n",
    "    model.add(Conv2D(256, (3, 3),activation='relu',padding='same'))\n",
    "    model.add(BatchNormalization())\n",
    "    model.add(MaxPooling2D(pool_size=(2, 2)))\n",
    "    \n",
    "    #creating 2D to 1D ussing Flatten\n",
    "    model.add(Flatten())\n",
    "    #adding first layer with 128 nodes\n",
    "    model.add(Dense(128))\n",
    "    model.add(BatchNormalization())\n",
    "    #relu gives output as either 0 or 1\n",
    "    model.add(Activation('relu'))\n",
    "    #Dropout of 0.2 to avoid overfitting\n",
    "    model.add(Dropout(0.2))\n",
    "    #adding output layer with 7 nodes as finally we need to classify in 7 classes\n",
    "    model.add(Dense(7))\n",
    "    #as in output we don't want data in 0 or 1 so we are using softmax\n",
    "    model.add(Activation('softmax'))\n",
    "    \n",
    "    #compling the model\n",
    "    #here adam optimizer is used as it's the best\n",
    "    #Categorical crossentropy loss function is used for single label categorization\n",
    "    model.compile(loss='categorical_crossentropy', metrics=['accuracy'],optimizer='adam')\n",
    "    # UNCOMMENT THIS TO VIEW THE ARCHITECTURE\n",
    "    #model.summary()\n",
    "    \n",
    "    return model\n",
    "model=my_model()\n",
    "model.summary()"
   ]
  },
  {
   "cell_type": "code",
   "execution_count": 11,
   "metadata": {},
   "outputs": [
    {
     "name": "stdout",
     "output_type": "stream",
     "text": [
      "Train on 32298 samples, validate on 3589 samples\n",
      "Epoch 1/20\n",
      "32298/32298 [==============================] - 3225s 100ms/step - loss: 1.6572 - accuracy: 0.3607 - val_loss: 1.4857 - val_accuracy: 0.4394\n",
      "Epoch 2/20\n",
      "32298/32298 [==============================] - 3150s 98ms/step - loss: 1.2972 - accuracy: 0.5052 - val_loss: 1.3042 - val_accuracy: 0.5007\n",
      "Epoch 3/20\n",
      "32298/32298 [==============================] - 2792s 86ms/step - loss: 1.1212 - accuracy: 0.5772 - val_loss: 1.2742 - val_accuracy: 0.5163\n",
      "Epoch 4/20\n",
      "32298/32298 [==============================] - 2766s 86ms/step - loss: 1.0013 - accuracy: 0.6250 - val_loss: 1.1109 - val_accuracy: 0.5768\n",
      "Epoch 5/20\n",
      "32298/32298 [==============================] - 2436s 75ms/step - loss: 0.8895 - accuracy: 0.6720 - val_loss: 1.1265 - val_accuracy: 0.5765\n",
      "Epoch 6/20\n",
      "32298/32298 [==============================] - 2220s 69ms/step - loss: 0.7538 - accuracy: 0.7244 - val_loss: 1.1107 - val_accuracy: 0.6043\n",
      "Epoch 7/20\n",
      "32298/32298 [==============================] - 2265s 70ms/step - loss: 0.5961 - accuracy: 0.7861 - val_loss: 1.1903 - val_accuracy: 0.5974\n",
      "Epoch 8/20\n",
      "32298/32298 [==============================] - 2762s 86ms/step - loss: 0.4389 - accuracy: 0.8450 - val_loss: 1.3910 - val_accuracy: 0.5874\n",
      "Epoch 9/20\n",
      "32298/32298 [==============================] - 2607s 81ms/step - loss: 0.3089 - accuracy: 0.8941 - val_loss: 1.4886 - val_accuracy: 0.5874\n",
      "Epoch 10/20\n",
      "32298/32298 [==============================] - 2730s 85ms/step - loss: 0.2213 - accuracy: 0.9254 - val_loss: 1.5181 - val_accuracy: 0.6116\n",
      "Epoch 11/20\n",
      "32298/32298 [==============================] - 2508s 78ms/step - loss: 0.1684 - accuracy: 0.9463 - val_loss: 1.7868 - val_accuracy: 0.5907\n",
      "Epoch 12/20\n",
      "32298/32298 [==============================] - 2407s 75ms/step - loss: 0.1381 - accuracy: 0.9547 - val_loss: 1.9542 - val_accuracy: 0.6057\n",
      "Epoch 13/20\n",
      "32298/32298 [==============================] - 2405s 74ms/step - loss: 0.1265 - accuracy: 0.9595 - val_loss: 1.8473 - val_accuracy: 0.6144\n",
      "Epoch 14/20\n",
      "32298/32298 [==============================] - 2394s 74ms/step - loss: 0.1172 - accuracy: 0.9613 - val_loss: 1.9696 - val_accuracy: 0.6049\n",
      "Epoch 15/20\n",
      "32298/32298 [==============================] - 2422s 75ms/step - loss: 0.1005 - accuracy: 0.9677 - val_loss: 2.0516 - val_accuracy: 0.6077\n",
      "Epoch 16/20\n",
      "32298/32298 [==============================] - 2416s 75ms/step - loss: 0.0974 - accuracy: 0.9685 - val_loss: 2.2117 - val_accuracy: 0.6049\n",
      "Epoch 17/20\n",
      "32298/32298 [==============================] - 2402s 74ms/step - loss: 0.0947 - accuracy: 0.9700 - val_loss: 2.1900 - val_accuracy: 0.6085\n",
      "Epoch 18/20\n",
      "32298/32298 [==============================] - 2401s 74ms/step - loss: 0.0847 - accuracy: 0.9726 - val_loss: 2.1109 - val_accuracy: 0.5957\n",
      "Epoch 19/20\n",
      "32298/32298 [==============================] - 2414s 75ms/step - loss: 0.0840 - accuracy: 0.9724 - val_loss: 2.5722 - val_accuracy: 0.5600\n",
      "Epoch 20/20\n",
      "32298/32298 [==============================] - 2384s 74ms/step - loss: 0.0763 - accuracy: 0.9757 - val_loss: 2.1971 - val_accuracy: 0.6133\n"
     ]
    }
   ],
   "source": [
    "path_model='model_filter.h5' # save model at this location after each epoch\n",
    "K.tensorflow_backend.clear_session() # destroys the current graph and builds a new one\n",
    "model=my_model() # create the model\n",
    "K.set_value(model.optimizer.lr,1e-3) # set the learning rate\n",
    "# fit the model\n",
    "h=model.fit(x=X_train,     \n",
    "            y=y_train, \n",
    "            batch_size=64, \n",
    "            epochs=20, \n",
    "            verbose=1, \n",
    "            validation_data=(X_test,y_test),\n",
    "            shuffle=True,\n",
    "            callbacks=[\n",
    "                ModelCheckpoint(filepath=path_model),\n",
    "            ]\n",
    "            )"
   ]
  },
  {
   "cell_type": "code",
   "execution_count": 12,
   "metadata": {},
   "outputs": [
    {
     "name": "stdout",
     "output_type": "stream",
     "text": [
      "[0 1 2 3 4 5 6]\n"
     ]
    }
   ],
   "source": [
    "objects = ('angry', 'disgust', 'fear', 'happy', 'sad', 'surprise', 'neutral')\n",
    "y_pos = np.arange(len(objects))\n",
    "print(y_pos)"
   ]
  },
  {
   "cell_type": "code",
   "execution_count": 13,
   "metadata": {},
   "outputs": [],
   "source": [
    "def emotion_analysis(emotions):\n",
    "    objects = ['angry', 'disgust', 'fear', 'happy', 'sad', 'surprise', 'neutral']\n",
    "    y_pos = np.arange(len(objects))\n",
    "    plt.bar(y_pos, emotions, align='center', alpha=0.9)\n",
    "    plt.tick_params(axis='x', which='both', pad=10,width=4,length=10)\n",
    "    plt.xticks(y_pos, objects)\n",
    "    plt.ylabel('percentage')\n",
    "    plt.title('emotion')\n",
    "    \n",
    "plt.show()"
   ]
  },
  {
   "cell_type": "code",
   "execution_count": 14,
   "metadata": {},
   "outputs": [
    {
     "data": {
      "text/plain": [
       "(3589, 7)"
      ]
     },
     "execution_count": 14,
     "metadata": {},
     "output_type": "execute_result"
    }
   ],
   "source": [
    "y_pred=model.predict(X_test)\n",
    "#print(y_pred)\n",
    "y_test.shape"
   ]
  },
  {
   "cell_type": "code",
   "execution_count": 17,
   "metadata": {},
   "outputs": [
    {
     "data": {
      "image/png": "[encoded data removed]",
      "text/plain": [
       "<Figure size 432x288 with 1 Axes>"
      ]
     },
     "metadata": {
      "needs_background": "light"
     },
     "output_type": "display_data"
    },
    {
     "name": "stdout",
     "output_type": "stream",
     "text": [
      "Expression Prediction: sad\n"
     ]
    }
   ],
   "source": [
    "from skimage import io\n",
    "img = image.load_img(r'D:\\Carrier\\dataset\\images\\validation\\sad\\800.jpg', grayscale=True, target_size=(48, 48))\n",
    "show_img=image.load_img(r'D:\\Carrier\\dataset\\images\\validation\\sad\\800.jpg', grayscale=False, target_size=(200, 200))\n",
    "x = image.img_to_array(img)\n",
    "x = np.expand_dims(x, axis = 0)\n",
    "\n",
    "x /= 255\n",
    "\n",
    "custom = model.predict(x)\n",
    "#print(custom[0])\n",
    "emotion_analysis(custom[0])\n",
    "\n",
    "x = np.array(x, 'float32')\n",
    "x = x.reshape([48, 48]);\n",
    "\n",
    "plt.gray()\n",
    "plt.imshow(show_img)\n",
    "plt.show()\n",
    "\n",
    "m=0.000000000000000000001\n",
    "a=custom[0]\n",
    "for i in range(0,len(a)):\n",
    "    if a[i]>m:\n",
    "        m=a[i]\n",
    "        ind=i\n",
    "        \n",
    "print('Expression Prediction:',objects[ind])"
   ]
  },
  {
   "cell_type": "code",
   "execution_count": 18,
   "metadata": {},
   "outputs": [
    {
     "data": {
      "image/png": "[encoded data removed]",
      "text/plain": [
       "<Figure size 432x288 with 1 Axes>"
      ]
     },
     "metadata": {
      "needs_background": "light"
     },
     "output_type": "display_data"
    },
    {
     "name": "stdout",
     "output_type": "stream",
     "text": [
      "Expression Prediction: angry\n"
     ]
    }
   ],
   "source": [
    "from skimage import io\n",
    "img = image.load_img(r'D:\\Carrier\\dataset\\images\\validation\\angry\\3137.jpg', grayscale=True, target_size=(48, 48))\n",
    "show_img=image.load_img(r'D:\\Carrier\\dataset\\images\\validation\\angry\\3137.jpg', grayscale=False, target_size=(200, 200))\n",
    "x = image.img_to_array(img)\n",
    "x = np.expand_dims(x, axis = 0)\n",
    "\n",
    "x /= 255\n",
    "\n",
    "custom = model.predict(x)\n",
    "#print(custom[0])\n",
    "emotion_analysis(custom[0])\n",
    "\n",
    "x = np.array(x, 'float32')\n",
    "x = x.reshape([48, 48]);\n",
    "\n",
    "plt.gray()\n",
    "plt.imshow(show_img)\n",
    "plt.show()\n",
    "\n",
    "m=0.000000000000000000001\n",
    "a=custom[0]\n",
    "for i in range(0,len(a)):\n",
    "    if a[i]>m:\n",
    "        m=a[i]\n",
    "        ind=i\n",
    "        \n",
    "print('Expression Prediction:',objects[ind])"
   ]
  },
  {
   "cell_type": "code",
   "execution_count": null,
   "metadata": {},
   "outputs": [],
   "source": []
  }
 ],
 "metadata": {
  "kernelspec": {
   "display_name": "Python [conda env:root] *",
   "language": "python",
   "name": "conda-root-py"
  },
  "language_info": {
   "codemirror_mode": {
    "name": "ipython",
    "version": 3
   },
   "file_extension": ".py",
   "mimetype": "text/x-python",
   "name": "python",
   "nbconvert_exporter": "python",
   "pygments_lexer": "ipython3",
   "version": "3.7.6"
  }
 },
 "nbformat": 4,
 "nbformat_minor": 4
}
